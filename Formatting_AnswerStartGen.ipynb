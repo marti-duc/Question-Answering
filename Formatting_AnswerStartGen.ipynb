{
 "cells": [
  {
   "cell_type": "markdown",
   "metadata": {},
   "source": [
    "# Data Formatting \n",
    "\n",
    "Goal: Given column \"A1\", use regex to find the answer within the context and generate an \"answer_start\" value for each given answer. Questions with multiple answers should have a list of \"answer_start\" values, corresponding to the number of answers the question had. These lists should be stored in a new column: \"answer_start\"\n",
    "\n",
    "\n",
    "\n",
    "* note, in SQuAD Development Set, answer_start is the character index of the first character in which the answer begins. In our original experiment, when BERT produced answer_start values these numbers are off."
   ]
  },
  {
   "cell_type": "markdown",
   "metadata": {},
   "source": [
    "## Data "
   ]
  },
  {
   "cell_type": "code",
   "execution_count": 3,
   "metadata": {},
   "outputs": [
    {
     "data": {
      "text/html": [
       "<div>\n",
       "<style scoped>\n",
       "    .dataframe tbody tr th:only-of-type {\n",
       "        vertical-align: middle;\n",
       "    }\n",
       "\n",
       "    .dataframe tbody tr th {\n",
       "        vertical-align: top;\n",
       "    }\n",
       "\n",
       "    .dataframe thead th {\n",
       "        text-align: right;\n",
       "    }\n",
       "</style>\n",
       "<table border=\"1\" class=\"dataframe\">\n",
       "  <thead>\n",
       "    <tr style=\"text-align: right;\">\n",
       "      <th></th>\n",
       "      <th>category</th>\n",
       "      <th>question</th>\n",
       "      <th>context</th>\n",
       "      <th>A1</th>\n",
       "    </tr>\n",
       "  </thead>\n",
       "  <tbody>\n",
       "    <tr>\n",
       "      <th>0</th>\n",
       "      <td>About the Virus FAQs</td>\n",
       "      <td>Am I at risk for COVID-19 from a package or pr...</td>\n",
       "      <td>There is still a lot that is unknown about the...</td>\n",
       "      <td>\"very low risk\"</td>\n",
       "    </tr>\n",
       "    <tr>\n",
       "      <th>1</th>\n",
       "      <td>About the Virus FAQs</td>\n",
       "      <td>Am I likely to get sicker if I'm exposed to mu...</td>\n",
       "      <td>Symptom severity can be influenced by many dif...</td>\n",
       "      <td>\"stay at least 6 feet away from everyone and a...</td>\n",
       "    </tr>\n",
       "    <tr>\n",
       "      <th>2</th>\n",
       "      <td>About the Virus FAQs</td>\n",
       "      <td>Are antibiotics effective in preventing or tre...</td>\n",
       "      <td>No. According to the World Health Organization...</td>\n",
       "      <td>\"No\"</td>\n",
       "    </tr>\n",
       "    <tr>\n",
       "      <th>3</th>\n",
       "      <td>About the Virus FAQs</td>\n",
       "      <td>Are there therapies available to treat COVID-19?</td>\n",
       "      <td>Scientists are currently testing different typ...</td>\n",
       "      <td>\"Remdesivir\",\\n\"Dexamethasone\",\\n \"favipiravir...</td>\n",
       "    </tr>\n",
       "    <tr>\n",
       "      <th>4</th>\n",
       "      <td>About the Virus FAQs</td>\n",
       "      <td>Are there two strains of the COVID-19 virus?</td>\n",
       "      <td>The existence of an S strain and an L strain r...</td>\n",
       "      <td>\"The existence of an S strain and an L strain ...</td>\n",
       "    </tr>\n",
       "  </tbody>\n",
       "</table>\n",
       "</div>"
      ],
      "text/plain": [
       "               category                                           question  \\\n",
       "0  About the Virus FAQs  Am I at risk for COVID-19 from a package or pr...   \n",
       "1  About the Virus FAQs  Am I likely to get sicker if I'm exposed to mu...   \n",
       "2  About the Virus FAQs  Are antibiotics effective in preventing or tre...   \n",
       "3  About the Virus FAQs   Are there therapies available to treat COVID-19?   \n",
       "4  About the Virus FAQs       Are there two strains of the COVID-19 virus?   \n",
       "\n",
       "                                             context  \\\n",
       "0  There is still a lot that is unknown about the...   \n",
       "1  Symptom severity can be influenced by many dif...   \n",
       "2  No. According to the World Health Organization...   \n",
       "3  Scientists are currently testing different typ...   \n",
       "4  The existence of an S strain and an L strain r...   \n",
       "\n",
       "                                                  A1  \n",
       "0                                    \"very low risk\"  \n",
       "1  \"stay at least 6 feet away from everyone and a...  \n",
       "2                                               \"No\"  \n",
       "3  \"Remdesivir\",\\n\"Dexamethasone\",\\n \"favipiravir...  \n",
       "4  \"The existence of an S strain and an L strain ...  "
      ]
     },
     "execution_count": 3,
     "metadata": {},
     "output_type": "execute_result"
    }
   ],
   "source": [
    "import pandas as pd\n",
    "import re\n",
    "data = pd.read_csv('divided_questions11.csv')\n",
    "data = data.loc[:, ~data.columns.str.contains('^Unnamed')]  #drop unnamed columns\n",
    "\n",
    "data.head()"
   ]
  },
  {
   "cell_type": "markdown",
   "metadata": {},
   "source": [
    "split each answer in 'A1', create a list of answers for each question"
   ]
  },
  {
   "cell_type": "markdown",
   "metadata": {},
   "source": [
    "## Preprocess"
   ]
  },
  {
   "cell_type": "code",
   "execution_count": 4,
   "metadata": {},
   "outputs": [
    {
     "name": "stdout",
     "output_type": "stream",
     "text": [
      "0                                        [very low risk]\n",
      "1      [stay at least 6 feet away from everyone and a...\n",
      "2                                                   [No]\n",
      "3      [Remdesivir, Dexamethasone, favipiravir, ribav...\n",
      "4      [The existence of an S strain and an L strain ...\n",
      "                             ...                        \n",
      "406    [defer all cruise ship travel worldwide, repor...\n",
      "407    [the remains must meet the standards for impor...\n",
      "408    [A list of destinations with coronavirus disea...\n",
      "409                           [we should all wear masks]\n",
      "410    [pilots must report all illnesses and deaths t...\n",
      "Name: A1, Length: 411, dtype: object\n"
     ]
    }
   ],
   "source": [
    "end = len(data['A1'])\n",
    "for i in range(0,end):\n",
    "    split = re.split('\"\\n,|\"\\n ,|\",\\n|\", \\n', data['A1'][i])    #split by newlines  #added quotes\n",
    "    nq = [i.replace('\"',\"\").strip() for i in split]         # remove quotes surrounding answers\n",
    "    one = [i.replace('(',\"\\(\") for i in nq]                 #escape parentheses (regex can't handle them)\n",
    "    data['A1'][i] = [i.replace(')',\"\\)\") for i in one]      #escape parentheses (regex can't handle them\n",
    "\n",
    "print(data['A1'])\n",
    "\n"
   ]
  },
  {
   "cell_type": "markdown",
   "metadata": {},
   "source": [
    "## Compute Answer_Start Scores"
   ]
  },
  {
   "cell_type": "code",
   "execution_count": 5,
   "metadata": {},
   "outputs": [],
   "source": [
    "import re\n",
    "answer = data['A1']\n",
    "context = data['context']\n",
    "data['answer_start'] = ''\n",
    "for i in range(len(data['A1'])):\n",
    "    my_list = []                #empty list to store answer_start values\n",
    "    pattern = answer[i]         #iterate through answers\n",
    "    text = context[i]           #iterate through context\n",
    "    idx = len(pattern)          #index depends on how many answers are available\n",
    "    for k in range(idx):        #if there are three answers, range should be 3\n",
    "        if re.search(pattern[k], text):\n",
    "            match = re.search(pattern[k],text)\n",
    "            answer_start = match.start()    #get answer_start\n",
    "            my_list.append(answer_start)    #append to a list\n",
    "        elif re.search(re.escape(pattern[k]), text):\n",
    "            match = re.search(re.escape(pattern[k]),text)\n",
    "            answer_start = match.start()    #get answer_start\n",
    "            my_list.append(answer_start)    #append to a list\n",
    "        else:\n",
    "            print(pattern[k])                #print any unmatched patterns\n",
    "            print('#####################################')    \n",
    "            \n",
    "    data['answer_start'][i] = my_list     #put list in appropriate column & row  \n",
    "        \n",
    "    "
   ]
  },
  {
   "cell_type": "code",
   "execution_count": 6,
   "metadata": {},
   "outputs": [
    {
     "data": {
      "text/html": [
       "<div>\n",
       "<style scoped>\n",
       "    .dataframe tbody tr th:only-of-type {\n",
       "        vertical-align: middle;\n",
       "    }\n",
       "\n",
       "    .dataframe tbody tr th {\n",
       "        vertical-align: top;\n",
       "    }\n",
       "\n",
       "    .dataframe thead th {\n",
       "        text-align: right;\n",
       "    }\n",
       "</style>\n",
       "<table border=\"1\" class=\"dataframe\">\n",
       "  <thead>\n",
       "    <tr style=\"text-align: right;\">\n",
       "      <th></th>\n",
       "      <th>category</th>\n",
       "      <th>question</th>\n",
       "      <th>context</th>\n",
       "      <th>A1</th>\n",
       "      <th>answer_start</th>\n",
       "    </tr>\n",
       "  </thead>\n",
       "  <tbody>\n",
       "    <tr>\n",
       "      <th>0</th>\n",
       "      <td>About the Virus FAQs</td>\n",
       "      <td>Am I at risk for COVID-19 from a package or pr...</td>\n",
       "      <td>There is still a lot that is unknown about the...</td>\n",
       "      <td>[very low risk]</td>\n",
       "      <td>[620]</td>\n",
       "    </tr>\n",
       "    <tr>\n",
       "      <th>1</th>\n",
       "      <td>About the Virus FAQs</td>\n",
       "      <td>Am I likely to get sicker if I'm exposed to mu...</td>\n",
       "      <td>Symptom severity can be influenced by many dif...</td>\n",
       "      <td>[stay at least 6 feet away from everyone and a...</td>\n",
       "      <td>[679]</td>\n",
       "    </tr>\n",
       "    <tr>\n",
       "      <th>2</th>\n",
       "      <td>About the Virus FAQs</td>\n",
       "      <td>Are antibiotics effective in preventing or tre...</td>\n",
       "      <td>No. According to the World Health Organization...</td>\n",
       "      <td>[No]</td>\n",
       "      <td>[0]</td>\n",
       "    </tr>\n",
       "    <tr>\n",
       "      <th>3</th>\n",
       "      <td>About the Virus FAQs</td>\n",
       "      <td>Are there therapies available to treat COVID-19?</td>\n",
       "      <td>Scientists are currently testing different typ...</td>\n",
       "      <td>[Remdesivir, Dexamethasone, favipiravir, ribav...</td>\n",
       "      <td>[167, 530, 811, 824, 838]</td>\n",
       "    </tr>\n",
       "    <tr>\n",
       "      <th>4</th>\n",
       "      <td>About the Virus FAQs</td>\n",
       "      <td>Are there two strains of the COVID-19 virus?</td>\n",
       "      <td>The existence of an S strain and an L strain r...</td>\n",
       "      <td>[The existence of an S strain and an L strain ...</td>\n",
       "      <td>[0]</td>\n",
       "    </tr>\n",
       "  </tbody>\n",
       "</table>\n",
       "</div>"
      ],
      "text/plain": [
       "               category                                           question  \\\n",
       "0  About the Virus FAQs  Am I at risk for COVID-19 from a package or pr...   \n",
       "1  About the Virus FAQs  Am I likely to get sicker if I'm exposed to mu...   \n",
       "2  About the Virus FAQs  Are antibiotics effective in preventing or tre...   \n",
       "3  About the Virus FAQs   Are there therapies available to treat COVID-19?   \n",
       "4  About the Virus FAQs       Are there two strains of the COVID-19 virus?   \n",
       "\n",
       "                                             context  \\\n",
       "0  There is still a lot that is unknown about the...   \n",
       "1  Symptom severity can be influenced by many dif...   \n",
       "2  No. According to the World Health Organization...   \n",
       "3  Scientists are currently testing different typ...   \n",
       "4  The existence of an S strain and an L strain r...   \n",
       "\n",
       "                                                  A1  \\\n",
       "0                                    [very low risk]   \n",
       "1  [stay at least 6 feet away from everyone and a...   \n",
       "2                                               [No]   \n",
       "3  [Remdesivir, Dexamethasone, favipiravir, ribav...   \n",
       "4  [The existence of an S strain and an L strain ...   \n",
       "\n",
       "                answer_start  \n",
       "0                      [620]  \n",
       "1                      [679]  \n",
       "2                        [0]  \n",
       "3  [167, 530, 811, 824, 838]  \n",
       "4                        [0]  "
      ]
     },
     "execution_count": 6,
     "metadata": {},
     "output_type": "execute_result"
    }
   ],
   "source": [
    "data = data.loc[:, ~data.columns.str.contains('^Unnamed')]  #drop unnamed columns\n",
    "data.head()"
   ]
  },
  {
   "cell_type": "code",
   "execution_count": 16,
   "metadata": {},
   "outputs": [],
   "source": [
    "data.to_csv('Desktop/Interactions/formatted_questions.csv')"
   ]
  },
  {
   "cell_type": "markdown",
   "metadata": {},
   "source": [
    "## Check for any empty lists in \"Answer_Start\""
   ]
  },
  {
   "cell_type": "code",
   "execution_count": 10,
   "metadata": {},
   "outputs": [
    {
     "name": "stdout",
     "output_type": "stream",
     "text": [
      "No Empty Lists in Answer Start Column\n"
     ]
    }
   ],
   "source": [
    "k = []\n",
    "ind = 0\n",
    "for i in data['answer_start']:\n",
    "    if not i:\n",
    "        k.append(ind)\n",
    "    ind+=1\n",
    "if len(k) == 0:\n",
    "    print('No Empty Lists in Answer Start Column')\n",
    "        "
   ]
  },
  {
   "cell_type": "markdown",
   "metadata": {},
   "source": [
    "## Check individual matches (for testing purposes)"
   ]
  },
  {
   "cell_type": "code",
   "execution_count": 14,
   "metadata": {},
   "outputs": [],
   "source": [
    "import re\n",
    "\n",
    "pattern = data['A1'][76][0]\n",
    "text = data['context'][76]\n",
    "match = re.search(pattern, text) #search for a pattern; only the first match is recorded\n",
    "s = match.start() # start of match (index)\n",
    "\n",
    "print(s)\n",
    "print(pattern)\n",
    "print(text)"
   ]
  }
 ],
 "metadata": {
  "kernelspec": {
   "display_name": "Python 3",
   "language": "python",
   "name": "python3"
  },
  "language_info": {
   "codemirror_mode": {
    "name": "ipython",
    "version": 3
   },
   "file_extension": ".py",
   "mimetype": "text/x-python",
   "name": "python",
   "nbconvert_exporter": "python",
   "pygments_lexer": "ipython3",
   "version": "3.8.3"
  }
 },
 "nbformat": 4,
 "nbformat_minor": 4
}
